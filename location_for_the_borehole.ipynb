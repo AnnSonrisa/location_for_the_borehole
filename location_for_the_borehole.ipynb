{
 "cells": [
  {
   "cell_type": "markdown",
   "metadata": {},
   "source": [
    "# Выбор локации для скважины"
   ]
  },
  {
   "cell_type": "markdown",
   "metadata": {},
   "source": [
    "Допустим, вы работаете в добывающей компании «ГлавРосГосНефть». Нужно решить, где бурить новую скважину.\n",
    "\n",
    "Вам предоставлены пробы нефти в трёх регионах: в каждом 10 000 месторождений, где измерили качество нефти и объём её запасов. Постройте модель машинного обучения, которая поможет определить регион, где добыча принесёт наибольшую прибыль. Проанализируйте возможную прибыль и риски техникой *Bootstrap.*\n",
    "\n",
    "Шаги для выбора локации:\n",
    "\n",
    "- В избранном регионе ищут месторождения, для каждого определяют значения признаков;\n",
    "- Строят модель и оценивают объём запасов;\n",
    "- Выбирают месторождения с самым высокими оценками значений. Количество месторождений зависит от бюджета компании и стоимости разработки одной скважины;\n",
    "- Прибыль равна суммарной прибыли отобранных месторождений."
   ]
  },
  {
   "cell_type": "code",
   "execution_count": 1,
   "metadata": {},
   "outputs": [],
   "source": [
    "import pandas as pd\n",
    "from sklearn.model_selection import train_test_split\n",
    "from sklearn.linear_model import LinearRegression\n",
    "from sklearn.preprocessing import StandardScaler\n",
    "from sklearn.metrics import accuracy_score\n",
    "from scipy import stats as st\n",
    "import numpy as np\n",
    "from sklearn.metrics import mean_squared_error, r2_score\n",
    "from tqdm.notebook import tqdm\n",
    "import matplotlib.pyplot as plt\n",
    "import seaborn as sns\n",
    "from sklearn.utils import shuffle\n",
    "from sklearn.preprocessing import OrdinalEncoder "
   ]
  },
  {
   "cell_type": "markdown",
   "metadata": {},
   "source": [
    "## Загрузка и подготовка данных"
   ]
  },
  {
   "cell_type": "code",
   "execution_count": 2,
   "metadata": {},
   "outputs": [
    {
     "name": "stdout",
     "output_type": "stream",
     "text": [
      "<class 'pandas.core.frame.DataFrame'>\n",
      "RangeIndex: 100000 entries, 0 to 99999\n",
      "Data columns (total 5 columns):\n",
      " #   Column   Non-Null Count   Dtype  \n",
      "---  ------   --------------   -----  \n",
      " 0   id       100000 non-null  object \n",
      " 1   f0       100000 non-null  float64\n",
      " 2   f1       100000 non-null  float64\n",
      " 3   f2       100000 non-null  float64\n",
      " 4   product  100000 non-null  float64\n",
      "dtypes: float64(4), object(1)\n",
      "memory usage: 3.8+ MB\n"
     ]
    }
   ],
   "source": [
    "geo_data_0 = pd.read_csv('/datasets/geo_data_0.csv')\n",
    "geo_data_0.info()"
   ]
  },
  {
   "cell_type": "code",
   "execution_count": 3,
   "metadata": {},
   "outputs": [
    {
     "name": "stdout",
     "output_type": "stream",
     "text": [
      "Уникальные значения столбца id\n",
      "['txEyH' '2acmU' '409Wp' ... '3rnvd' '7kl59' '1CWhH']\n",
      "Уникальные значения столбца f0\n",
      "[0.70574498 1.33471129 1.02273226 ... 1.02958465 0.99816289 1.76475393]\n",
      "Уникальные значения столбца f1\n",
      "[-0.4978225  -0.34016425  0.15199044 ...  0.01878693 -0.52858167\n",
      " -0.26641676]\n",
      "Уникальные значения столбца f2\n",
      "[ 1.22116995  4.36508033  1.41992624 ... -1.34830814  1.58386866\n",
      "  5.72284937]\n",
      "Уникальные значения столбца product\n",
      "[105.28006184  73.03775027  85.26564713 ...  64.37544259  74.04076435\n",
      " 149.63324561]\n"
     ]
    }
   ],
   "source": [
    "for column in geo_data_0.columns:\n",
    "    print('Уникальные значения столбца', column)\n",
    "    print(geo_data_0[column].unique())"
   ]
  },
  {
   "cell_type": "code",
   "execution_count": 4,
   "metadata": {},
   "outputs": [
    {
     "data": {
      "text/plain": [
       "id         0\n",
       "f0         0\n",
       "f1         0\n",
       "f2         0\n",
       "product    0\n",
       "dtype: int64"
      ]
     },
     "execution_count": 4,
     "metadata": {},
     "output_type": "execute_result"
    }
   ],
   "source": [
    "geo_data_0.isna().sum()"
   ]
  },
  {
   "cell_type": "code",
   "execution_count": 5,
   "metadata": {},
   "outputs": [
    {
     "name": "stdout",
     "output_type": "stream",
     "text": [
      "<class 'pandas.core.frame.DataFrame'>\n",
      "RangeIndex: 100000 entries, 0 to 99999\n",
      "Data columns (total 5 columns):\n",
      " #   Column   Non-Null Count   Dtype  \n",
      "---  ------   --------------   -----  \n",
      " 0   id       100000 non-null  object \n",
      " 1   f0       100000 non-null  float64\n",
      " 2   f1       100000 non-null  float64\n",
      " 3   f2       100000 non-null  float64\n",
      " 4   product  100000 non-null  float64\n",
      "dtypes: float64(4), object(1)\n",
      "memory usage: 3.8+ MB\n"
     ]
    }
   ],
   "source": [
    "geo_data_1 = pd.read_csv('/datasets/geo_data_1.csv')\n",
    "geo_data_1.info()"
   ]
  },
  {
   "cell_type": "code",
   "execution_count": 6,
   "metadata": {},
   "outputs": [
    {
     "name": "stdout",
     "output_type": "stream",
     "text": [
      "Уникальные значения столбца id\n",
      "['txEyH' '2acmU' '409Wp' ... '3rnvd' '7kl59' '1CWhH']\n",
      "Уникальные значения столбца f0\n",
      "[0.70574498 1.33471129 1.02273226 ... 1.02958465 0.99816289 1.76475393]\n",
      "Уникальные значения столбца f1\n",
      "[-0.4978225  -0.34016425  0.15199044 ...  0.01878693 -0.52858167\n",
      " -0.26641676]\n",
      "Уникальные значения столбца f2\n",
      "[ 1.22116995  4.36508033  1.41992624 ... -1.34830814  1.58386866\n",
      "  5.72284937]\n",
      "Уникальные значения столбца product\n",
      "[105.28006184  73.03775027  85.26564713 ...  64.37544259  74.04076435\n",
      " 149.63324561]\n"
     ]
    }
   ],
   "source": [
    "for column in geo_data_1.columns:\n",
    "    print('Уникальные значения столбца', column)\n",
    "    print(geo_data_0[column].unique())"
   ]
  },
  {
   "cell_type": "code",
   "execution_count": 7,
   "metadata": {},
   "outputs": [
    {
     "data": {
      "text/plain": [
       "id         0\n",
       "f0         0\n",
       "f1         0\n",
       "f2         0\n",
       "product    0\n",
       "dtype: int64"
      ]
     },
     "execution_count": 7,
     "metadata": {},
     "output_type": "execute_result"
    }
   ],
   "source": [
    "geo_data_1.isna().sum()"
   ]
  },
  {
   "cell_type": "code",
   "execution_count": 8,
   "metadata": {},
   "outputs": [
    {
     "name": "stdout",
     "output_type": "stream",
     "text": [
      "<class 'pandas.core.frame.DataFrame'>\n",
      "RangeIndex: 100000 entries, 0 to 99999\n",
      "Data columns (total 5 columns):\n",
      " #   Column   Non-Null Count   Dtype  \n",
      "---  ------   --------------   -----  \n",
      " 0   id       100000 non-null  object \n",
      " 1   f0       100000 non-null  float64\n",
      " 2   f1       100000 non-null  float64\n",
      " 3   f2       100000 non-null  float64\n",
      " 4   product  100000 non-null  float64\n",
      "dtypes: float64(4), object(1)\n",
      "memory usage: 3.8+ MB\n"
     ]
    }
   ],
   "source": [
    "geo_data_2 = pd.read_csv('/datasets/geo_data_2.csv')\n",
    "geo_data_2.info()"
   ]
  },
  {
   "cell_type": "code",
   "execution_count": 9,
   "metadata": {},
   "outputs": [
    {
     "name": "stdout",
     "output_type": "stream",
     "text": [
      "Уникальные значения столбца id\n",
      "['txEyH' '2acmU' '409Wp' ... '3rnvd' '7kl59' '1CWhH']\n",
      "Уникальные значения столбца f0\n",
      "[0.70574498 1.33471129 1.02273226 ... 1.02958465 0.99816289 1.76475393]\n",
      "Уникальные значения столбца f1\n",
      "[-0.4978225  -0.34016425  0.15199044 ...  0.01878693 -0.52858167\n",
      " -0.26641676]\n",
      "Уникальные значения столбца f2\n",
      "[ 1.22116995  4.36508033  1.41992624 ... -1.34830814  1.58386866\n",
      "  5.72284937]\n",
      "Уникальные значения столбца product\n",
      "[105.28006184  73.03775027  85.26564713 ...  64.37544259  74.04076435\n",
      " 149.63324561]\n"
     ]
    }
   ],
   "source": [
    "for column in geo_data_2.columns:\n",
    "    print('Уникальные значения столбца', column)\n",
    "    print(geo_data_0[column].unique())"
   ]
  },
  {
   "cell_type": "code",
   "execution_count": 10,
   "metadata": {},
   "outputs": [
    {
     "data": {
      "text/plain": [
       "id         0\n",
       "f0         0\n",
       "f1         0\n",
       "f2         0\n",
       "product    0\n",
       "dtype: int64"
      ]
     },
     "execution_count": 10,
     "metadata": {},
     "output_type": "execute_result"
    }
   ],
   "source": [
    "geo_data_2.isna().sum()"
   ]
  },
  {
   "cell_type": "markdown",
   "metadata": {},
   "source": [
    "В данных отсутсвуют пропуски."
   ]
  },
  {
   "cell_type": "markdown",
   "metadata": {},
   "source": [
    "Изучим гистограммы по столбцу product."
   ]
  },
  {
   "cell_type": "code",
   "execution_count": 11,
   "metadata": {},
   "outputs": [
    {
     "data": {
      "image/png": "[encoded data removed]",
      "text/plain": [
       "<Figure size 864x648 with 1 Axes>"
      ]
     },
     "metadata": {
      "needs_background": "light"
     },
     "output_type": "display_data"
    }
   ],
   "source": [
    "plt.figure(figsize=[12,9])\n",
    "plt.hist(geo_data_0['product'], bins=300)\n",
    "plt.xlim([0,190])\n",
    "plt.ylim([0,600])\n",
    "plt.xlabel(\"Объем нефти на скважину, тыс. барелей\")\n",
    "plt.ylabel(\"Количество скважин\")\n",
    "plt.title(\"Гистограмма распределения по объему скважин для geo_data_0\")\n",
    "plt.show()"
   ]
  },
  {
   "cell_type": "code",
   "execution_count": 12,
   "metadata": {},
   "outputs": [
    {
     "data": {
      "image/png": "[encoded data removed]",
      "text/plain": [
       "<Figure size 864x648 with 1 Axes>"
      ]
     },
     "metadata": {
      "needs_background": "light"
     },
     "output_type": "display_data"
    }
   ],
   "source": [
    "plt.figure(figsize=[12,9])\n",
    "plt.hist(geo_data_1['product'], bins=50)\n",
    "plt.xlim([0,150])\n",
    "plt.ylim([0,10000])\n",
    "plt.xlabel(\"Объем нефти на скважину, тыс. барелей\")\n",
    "plt.ylabel(\"Количество скважин\")\n",
    "plt.title(\"Гистограмма распределения по объему скважин для geo_data_1\")\n",
    "plt.show()"
   ]
  },
  {
   "cell_type": "code",
   "execution_count": 13,
   "metadata": {},
   "outputs": [
    {
     "data": {
      "image/png": "[encoded data removed]",
      "text/plain": [
       "<Figure size 864x648 with 1 Axes>"
      ]
     },
     "metadata": {
      "needs_background": "light"
     },
     "output_type": "display_data"
    }
   ],
   "source": [
    "plt.figure(figsize=[12,9])\n",
    "plt.hist(geo_data_2['product'], bins=300)\n",
    "plt.xlim([0,200])\n",
    "plt.ylim([0,600])\n",
    "plt.xlabel(\"Объем нефти на скважину, тыс. барелей\")\n",
    "plt.ylabel(\"Количество скважин\")\n",
    "plt.title(\"Гистограмма распределения по объему скважин для geo_data_2\")\n",
    "plt.show()"
   ]
  },
  {
   "cell_type": "markdown",
   "metadata": {},
   "source": [
    "**Вывод**\n",
    "\n",
    "- Данные загружены и изучены.\n",
    "- Пропусков нет.\n",
    "- По гистограммам видно, что у 1-го и 3-го регионов распределение скважин близкое к нормальному. \n",
    "- Во 2-м регионе данные имеют странное распределение: около 5000 баррелей с шагом по 15-20 тыс. баррелей. Данные не подчиняются ЗБЧ и скорее всего были введены искуственно."
   ]
  },
  {
   "cell_type": "markdown",
   "metadata": {},
   "source": [
    "## Обучение и проверка модели"
   ]
  },
  {
   "cell_type": "code",
   "execution_count": 14,
   "metadata": {},
   "outputs": [
    {
     "data": {
      "text/html": [
       "<div>\n",
       "<style scoped>\n",
       "    .dataframe tbody tr th:only-of-type {\n",
       "        vertical-align: middle;\n",
       "    }\n",
       "\n",
       "    .dataframe tbody tr th {\n",
       "        vertical-align: top;\n",
       "    }\n",
       "\n",
       "    .dataframe thead th {\n",
       "        text-align: right;\n",
       "    }\n",
       "</style>\n",
       "<table border=\"1\" class=\"dataframe\">\n",
       "  <thead>\n",
       "    <tr style=\"text-align: right;\">\n",
       "      <th></th>\n",
       "      <th>id</th>\n",
       "      <th>f0</th>\n",
       "      <th>f1</th>\n",
       "      <th>f2</th>\n",
       "      <th>product</th>\n",
       "    </tr>\n",
       "  </thead>\n",
       "  <tbody>\n",
       "    <tr>\n",
       "      <th>0</th>\n",
       "      <td>90195</td>\n",
       "      <td>0.705745</td>\n",
       "      <td>-0.497823</td>\n",
       "      <td>1.221170</td>\n",
       "      <td>105.280062</td>\n",
       "    </tr>\n",
       "    <tr>\n",
       "      <th>1</th>\n",
       "      <td>4259</td>\n",
       "      <td>1.334711</td>\n",
       "      <td>-0.340164</td>\n",
       "      <td>4.365080</td>\n",
       "      <td>73.037750</td>\n",
       "    </tr>\n",
       "    <tr>\n",
       "      <th>2</th>\n",
       "      <td>6574</td>\n",
       "      <td>1.022732</td>\n",
       "      <td>0.151990</td>\n",
       "      <td>1.419926</td>\n",
       "      <td>85.265647</td>\n",
       "    </tr>\n",
       "    <tr>\n",
       "      <th>3</th>\n",
       "      <td>71446</td>\n",
       "      <td>-0.032172</td>\n",
       "      <td>0.139033</td>\n",
       "      <td>2.978566</td>\n",
       "      <td>168.620776</td>\n",
       "    </tr>\n",
       "    <tr>\n",
       "      <th>4</th>\n",
       "      <td>54252</td>\n",
       "      <td>1.988431</td>\n",
       "      <td>0.155413</td>\n",
       "      <td>4.751769</td>\n",
       "      <td>154.036647</td>\n",
       "    </tr>\n",
       "  </tbody>\n",
       "</table>\n",
       "</div>"
      ],
      "text/plain": [
       "      id        f0        f1        f2     product\n",
       "0  90195  0.705745 -0.497823  1.221170  105.280062\n",
       "1   4259  1.334711 -0.340164  4.365080   73.037750\n",
       "2   6574  1.022732  0.151990  1.419926   85.265647\n",
       "3  71446 -0.032172  0.139033  2.978566  168.620776\n",
       "4  54252  1.988431  0.155413  4.751769  154.036647"
      ]
     },
     "execution_count": 14,
     "metadata": {},
     "output_type": "execute_result"
    }
   ],
   "source": [
    "encoder_0 = OrdinalEncoder() \n",
    "encoder_0.fit(geo_data_0)\n",
    "geo_data_ordinal_0 = pd.DataFrame(encoder_0.transform(geo_data_0), columns=geo_data_0.columns)\n",
    "geo_data_0['id'] = (geo_data_ordinal_0['id']).astype('int')\n",
    "geo_data_0.head()"
   ]
  },
  {
   "cell_type": "code",
   "execution_count": 15,
   "metadata": {},
   "outputs": [
    {
     "data": {
      "text/html": [
       "<div>\n",
       "<style scoped>\n",
       "    .dataframe tbody tr th:only-of-type {\n",
       "        vertical-align: middle;\n",
       "    }\n",
       "\n",
       "    .dataframe tbody tr th {\n",
       "        vertical-align: top;\n",
       "    }\n",
       "\n",
       "    .dataframe thead th {\n",
       "        text-align: right;\n",
       "    }\n",
       "</style>\n",
       "<table border=\"1\" class=\"dataframe\">\n",
       "  <thead>\n",
       "    <tr style=\"text-align: right;\">\n",
       "      <th></th>\n",
       "      <th>id</th>\n",
       "      <th>f0</th>\n",
       "      <th>f1</th>\n",
       "      <th>f2</th>\n",
       "      <th>product</th>\n",
       "    </tr>\n",
       "  </thead>\n",
       "  <tbody>\n",
       "    <tr>\n",
       "      <th>0</th>\n",
       "      <td>74613</td>\n",
       "      <td>-15.001348</td>\n",
       "      <td>-8.276000</td>\n",
       "      <td>-0.005876</td>\n",
       "      <td>3.179103</td>\n",
       "    </tr>\n",
       "    <tr>\n",
       "      <th>1</th>\n",
       "      <td>9753</td>\n",
       "      <td>14.272088</td>\n",
       "      <td>-3.475083</td>\n",
       "      <td>0.999183</td>\n",
       "      <td>26.953261</td>\n",
       "    </tr>\n",
       "    <tr>\n",
       "      <th>2</th>\n",
       "      <td>93502</td>\n",
       "      <td>6.263187</td>\n",
       "      <td>-5.948386</td>\n",
       "      <td>5.001160</td>\n",
       "      <td>134.766305</td>\n",
       "    </tr>\n",
       "    <tr>\n",
       "      <th>3</th>\n",
       "      <td>33405</td>\n",
       "      <td>-13.081196</td>\n",
       "      <td>-11.506057</td>\n",
       "      <td>4.999415</td>\n",
       "      <td>137.945408</td>\n",
       "    </tr>\n",
       "    <tr>\n",
       "      <th>4</th>\n",
       "      <td>16486</td>\n",
       "      <td>12.702195</td>\n",
       "      <td>-8.147433</td>\n",
       "      <td>5.004363</td>\n",
       "      <td>134.766305</td>\n",
       "    </tr>\n",
       "  </tbody>\n",
       "</table>\n",
       "</div>"
      ],
      "text/plain": [
       "      id         f0         f1        f2     product\n",
       "0  74613 -15.001348  -8.276000 -0.005876    3.179103\n",
       "1   9753  14.272088  -3.475083  0.999183   26.953261\n",
       "2  93502   6.263187  -5.948386  5.001160  134.766305\n",
       "3  33405 -13.081196 -11.506057  4.999415  137.945408\n",
       "4  16486  12.702195  -8.147433  5.004363  134.766305"
      ]
     },
     "execution_count": 15,
     "metadata": {},
     "output_type": "execute_result"
    }
   ],
   "source": [
    "encoder_1 = OrdinalEncoder() \n",
    "encoder_1.fit(geo_data_1)\n",
    "geo_data_ordinal_1 = pd.DataFrame(encoder_1.transform(geo_data_1), columns=geo_data_1.columns)\n",
    "geo_data_1['id'] = (geo_data_ordinal_1['id']).astype('int')\n",
    "geo_data_1.head()"
   ]
  },
  {
   "cell_type": "code",
   "execution_count": 16,
   "metadata": {},
   "outputs": [
    {
     "data": {
      "text/html": [
       "<div>\n",
       "<style scoped>\n",
       "    .dataframe tbody tr th:only-of-type {\n",
       "        vertical-align: middle;\n",
       "    }\n",
       "\n",
       "    .dataframe tbody tr th {\n",
       "        vertical-align: top;\n",
       "    }\n",
       "\n",
       "    .dataframe thead th {\n",
       "        text-align: right;\n",
       "    }\n",
       "</style>\n",
       "<table border=\"1\" class=\"dataframe\">\n",
       "  <thead>\n",
       "    <tr style=\"text-align: right;\">\n",
       "      <th></th>\n",
       "      <th>id</th>\n",
       "      <th>f0</th>\n",
       "      <th>f1</th>\n",
       "      <th>f2</th>\n",
       "      <th>product</th>\n",
       "    </tr>\n",
       "  </thead>\n",
       "  <tbody>\n",
       "    <tr>\n",
       "      <th>0</th>\n",
       "      <td>67731</td>\n",
       "      <td>-1.146987</td>\n",
       "      <td>0.963328</td>\n",
       "      <td>-0.828965</td>\n",
       "      <td>27.758673</td>\n",
       "    </tr>\n",
       "    <tr>\n",
       "      <th>1</th>\n",
       "      <td>52297</td>\n",
       "      <td>0.262778</td>\n",
       "      <td>0.269839</td>\n",
       "      <td>-2.530187</td>\n",
       "      <td>56.069697</td>\n",
       "    </tr>\n",
       "    <tr>\n",
       "      <th>2</th>\n",
       "      <td>82167</td>\n",
       "      <td>0.194587</td>\n",
       "      <td>0.289035</td>\n",
       "      <td>-5.586433</td>\n",
       "      <td>62.871910</td>\n",
       "    </tr>\n",
       "    <tr>\n",
       "      <th>3</th>\n",
       "      <td>84060</td>\n",
       "      <td>2.236060</td>\n",
       "      <td>-0.553760</td>\n",
       "      <td>0.930038</td>\n",
       "      <td>114.572842</td>\n",
       "    </tr>\n",
       "    <tr>\n",
       "      <th>4</th>\n",
       "      <td>52441</td>\n",
       "      <td>-0.515993</td>\n",
       "      <td>1.716266</td>\n",
       "      <td>5.899011</td>\n",
       "      <td>149.600746</td>\n",
       "    </tr>\n",
       "  </tbody>\n",
       "</table>\n",
       "</div>"
      ],
      "text/plain": [
       "      id        f0        f1        f2     product\n",
       "0  67731 -1.146987  0.963328 -0.828965   27.758673\n",
       "1  52297  0.262778  0.269839 -2.530187   56.069697\n",
       "2  82167  0.194587  0.289035 -5.586433   62.871910\n",
       "3  84060  2.236060 -0.553760  0.930038  114.572842\n",
       "4  52441 -0.515993  1.716266  5.899011  149.600746"
      ]
     },
     "execution_count": 16,
     "metadata": {},
     "output_type": "execute_result"
    }
   ],
   "source": [
    "encoder_2 = OrdinalEncoder() \n",
    "encoder_2.fit(geo_data_2)\n",
    "geo_data_ordinal_2 = pd.DataFrame(encoder_2.transform(geo_data_2), columns=geo_data_2.columns)\n",
    "geo_data_2['id'] = (geo_data_ordinal_2['id']).astype('int')\n",
    "geo_data_2.head()"
   ]
  },
  {
   "cell_type": "markdown",
   "metadata": {},
   "source": [
    "**Разобьём данные на обучающую и валидационную выборки в соотношении 75:25**"
   ]
  },
  {
   "cell_type": "code",
   "execution_count": 17,
   "metadata": {},
   "outputs": [],
   "source": [
    "target_0=geo_data_0['product']\n",
    "features_0=geo_data_0.drop(['product'], axis=1)\n",
    "\n",
    "target_1=geo_data_1['product']\n",
    "features_1=geo_data_1.drop(['product'], axis=1)\n",
    "\n",
    "target_2=geo_data_2['product']\n",
    "features_2=geo_data_2.drop(['product'], axis=1)"
   ]
  },
  {
   "cell_type": "code",
   "execution_count": 18,
   "metadata": {},
   "outputs": [],
   "source": [
    "features_train_0, features_valid_0, target_train_0, target_valid_0 = train_test_split(\n",
    "    features_0, target_0, test_size=0.25, random_state=42)"
   ]
  },
  {
   "cell_type": "code",
   "execution_count": 19,
   "metadata": {},
   "outputs": [],
   "source": [
    "features_train_1, features_valid_1, target_train_1, target_valid_1 = train_test_split(\n",
    "    features_1, target_1, test_size=0.25, random_state=42)"
   ]
  },
  {
   "cell_type": "code",
   "execution_count": 20,
   "metadata": {},
   "outputs": [],
   "source": [
    "features_train_2, features_valid_2, target_train_2, target_valid_2 = train_test_split(\n",
    "    features_2, target_2, test_size=0.25, random_state=42)"
   ]
  },
  {
   "cell_type": "markdown",
   "metadata": {},
   "source": [
    "**Обучим модель и сделаем предсказания на валидационной выборке**"
   ]
  },
  {
   "cell_type": "code",
   "execution_count": 21,
   "metadata": {},
   "outputs": [],
   "source": [
    "def get_metrics(target_valid, predicted_valid):\n",
    "    metrics = {}\n",
    "    metrics['mse'] =  round(mean_squared_error(target_valid, predicted_valid),4)\n",
    "    metrics['rmse'] =  round(metrics['mse'] ** 0.5,4)\n",
    "    metrics[\"predicted_valid\"] = predicted_valid\n",
    "    metrics[\"target_valid\"] = target_valid\n",
    "    return metrics"
   ]
  },
  {
   "cell_type": "markdown",
   "metadata": {},
   "source": [
    "**1 регион**"
   ]
  },
  {
   "cell_type": "code",
   "execution_count": 22,
   "metadata": {},
   "outputs": [],
   "source": [
    "model_0=LinearRegression()\n",
    "model_0.fit(features_train_0,target_train_0)\n",
    "predict_0=model_0.predict(features_valid_0)"
   ]
  },
  {
   "cell_type": "code",
   "execution_count": 23,
   "metadata": {},
   "outputs": [],
   "source": [
    "metrics_0 = get_metrics(target_valid_0, predict_0)"
   ]
  },
  {
   "cell_type": "markdown",
   "metadata": {},
   "source": [
    "**2 регион**"
   ]
  },
  {
   "cell_type": "code",
   "execution_count": 24,
   "metadata": {},
   "outputs": [],
   "source": [
    "model_1=LinearRegression()\n",
    "model_1.fit(features_train_1,target_train_1)\n",
    "predict_1=model_1.predict(features_valid_1)"
   ]
  },
  {
   "cell_type": "code",
   "execution_count": 25,
   "metadata": {},
   "outputs": [],
   "source": [
    "metrics_1 = get_metrics(target_valid_1, predict_1)"
   ]
  },
  {
   "cell_type": "markdown",
   "metadata": {},
   "source": [
    "**3 регион**"
   ]
  },
  {
   "cell_type": "code",
   "execution_count": 26,
   "metadata": {},
   "outputs": [],
   "source": [
    "model_2=LinearRegression()\n",
    "model_2.fit(features_train_2,target_train_2)\n",
    "predict_2=model_2.predict(features_valid_2)"
   ]
  },
  {
   "cell_type": "code",
   "execution_count": 27,
   "metadata": {},
   "outputs": [],
   "source": [
    "metrics_2 = get_metrics(target_valid_2, predict_2)"
   ]
  },
  {
   "cell_type": "code",
   "execution_count": 28,
   "metadata": {},
   "outputs": [
    {
     "data": {
      "text/html": [
       "<div>\n",
       "<style scoped>\n",
       "    .dataframe tbody tr th:only-of-type {\n",
       "        vertical-align: middle;\n",
       "    }\n",
       "\n",
       "    .dataframe tbody tr th {\n",
       "        vertical-align: top;\n",
       "    }\n",
       "\n",
       "    .dataframe thead th {\n",
       "        text-align: right;\n",
       "    }\n",
       "</style>\n",
       "<table border=\"1\" class=\"dataframe\">\n",
       "  <thead>\n",
       "    <tr style=\"text-align: right;\">\n",
       "      <th></th>\n",
       "      <th>1 регион</th>\n",
       "      <th>2 регион</th>\n",
       "      <th>3 регион</th>\n",
       "    </tr>\n",
       "  </thead>\n",
       "  <tbody>\n",
       "    <tr>\n",
       "      <th>Средний запас предсказанного сырья</th>\n",
       "      <td>92.399126</td>\n",
       "      <td>68.712878</td>\n",
       "      <td>94.772268</td>\n",
       "    </tr>\n",
       "    <tr>\n",
       "      <th>RMSE</th>\n",
       "      <td>37.756800</td>\n",
       "      <td>0.890300</td>\n",
       "      <td>40.145700</td>\n",
       "    </tr>\n",
       "  </tbody>\n",
       "</table>\n",
       "</div>"
      ],
      "text/plain": [
       "                                     1 регион   2 регион   3 регион\n",
       "Средний запас предсказанного сырья  92.399126  68.712878  94.772268\n",
       "RMSE                                37.756800   0.890300  40.145700"
      ]
     },
     "execution_count": 28,
     "metadata": {},
     "output_type": "execute_result"
    }
   ],
   "source": [
    "comparison_table = pd.DataFrame(\n",
    "    index=['Средний запас предсказанного сырья','RMSE'], \n",
    "    columns=['1 регион','2 регион','3 регион'])\n",
    "comparison_table['1 регион'] = predict_0.mean(), metrics_0[\"rmse\"]\n",
    "comparison_table['2 регион'] = predict_1.mean(), metrics_1[\"rmse\"]\n",
    "comparison_table['3 регион'] = predict_2.mean(), metrics_2[\"rmse\"]\n",
    "comparison_table"
   ]
  },
  {
   "cell_type": "markdown",
   "metadata": {},
   "source": [
    "**Вывод**\n",
    "\n",
    "- Модели обучены и проверены на качество предсказания метрикой **RMSE**. \n",
    "- Величина RMSE во втором регионе сильно отличается от двух других;\n",
    "это связано с тем, что модель обучилась на практически равных по величине данных, и величина ошибки этой модели не может сильно варьироваться."
   ]
  },
  {
   "cell_type": "markdown",
   "metadata": {},
   "source": [
    "## Подготовка к расчёту прибыли"
   ]
  },
  {
   "cell_type": "markdown",
   "metadata": {},
   "source": [
    "- Исследуем 500 точек, выберем 200 лучших для разработки.\n",
    "- Бюджет на разработку скважин в регионе — 10 млрд рублей.\n",
    "- Один баррель сырья приносит 450 рублей дохода. Доход с каждой единицы продукта составляет 450 тыс. рублей, поскольку объём указан в тысячах баррелей.\n",
    "- После оценки рисков оставим лишь те регионы, в которых вероятность убытков меньше 2.5%. Среди них выберем регион с наибольшей средней прибылью."
   ]
  },
  {
   "cell_type": "code",
   "execution_count": 29,
   "metadata": {},
   "outputs": [],
   "source": [
    "BUDGET = 10000000 # Бюджет на разработку скважин в регионе, тыс.руб\n",
    "INCOME_ONE_PROD = 450 # Доход с каждой единицы продукта, тыс.руб\n",
    "target_probability_losses = 0.025 # вероятность убытков\n",
    "product_mean_0 = geo_data_0['product'].mean()\n",
    "product_mean_1 = geo_data_1['product'].mean()\n",
    "product_mean_2 = geo_data_2['product'].mean()"
   ]
  },
  {
   "cell_type": "code",
   "execution_count": 30,
   "metadata": {},
   "outputs": [
    {
     "name": "stdout",
     "output_type": "stream",
     "text": [
      "Cредний запас сырья в 1 регионе: 92.50 млн.баррелей\n",
      "Cредний запас сырья в 2 регионе: 68.83 млн.баррелей\n",
      "Cредний запас сырья в 3 регионе: 95.00 млн.баррелей\n"
     ]
    }
   ],
   "source": [
    "print('Cредний запас сырья в 1 регионе: %.2f млн.баррелей'%product_mean_0)\n",
    "print('Cредний запас сырья в 2 регионе: %.2f млн.баррелей'%product_mean_1)\n",
    "print('Cредний запас сырья в 3 регионе: %.2f млн.баррелей'%product_mean_2)"
   ]
  },
  {
   "cell_type": "markdown",
   "metadata": {},
   "source": [
    "**Рассчитаем достаточный объём сырья для безубыточной разработки новой скважины**"
   ]
  },
  {
   "cell_type": "code",
   "execution_count": 31,
   "metadata": {},
   "outputs": [
    {
     "data": {
      "text/plain": [
       "111.11111111111111"
      ]
     },
     "execution_count": 31,
     "metadata": {},
     "output_type": "execute_result"
    }
   ],
   "source": [
    "budget_count = BUDGET/200\n",
    "v_prod = budget_count/INCOME_ONE_PROD\n",
    "v_prod"
   ]
  },
  {
   "cell_type": "markdown",
   "metadata": {},
   "source": [
    "**Сравним полученный объём сырья со средним запасом в каждом регионе**"
   ]
  },
  {
   "cell_type": "code",
   "execution_count": 32,
   "metadata": {},
   "outputs": [
    {
     "name": "stdout",
     "output_type": "stream",
     "text": [
      "Средний запас фактичекой нефти на скважину в регионе 1 92.50000000000001\n",
      "Средний запас фактичекой нефти на скважину в регионе 2 68.82500000000002\n",
      "Средний запас фактичекой нефти на скважину в регионе 3 95.00000000000004\n"
     ]
    }
   ],
   "source": [
    "print('Средний запас фактичекой нефти на скважину в регионе 1', geo_data_0['product'].mean())\n",
    "print('Средний запас фактичекой нефти на скважину в регионе 2', geo_data_1['product'].mean())\n",
    "print('Средний запас фактичекой нефти на скважину в регионе 3', geo_data_2['product'].mean())"
   ]
  },
  {
   "cell_type": "markdown",
   "metadata": {},
   "source": [
    "**Вывод**\n",
    "\n",
    "- Изучены средние фактические запасы. \n",
    "- Для первого и третьего регионов - высокая вероятность окупить затраты. Существует достаточно много скважин, где запасы больше необходимого среднего.\n",
    "- Для второго региона - значений больше 111 достаточно много и можно выбрать только лучшие в этой выборке."
   ]
  },
  {
   "cell_type": "markdown",
   "metadata": {},
   "source": [
    "## Расчёт прибыли и рисков "
   ]
  },
  {
   "cell_type": "code",
   "execution_count": 33,
   "metadata": {},
   "outputs": [],
   "source": [
    "region_df0 = pd.DataFrame(metrics_0[\"target_valid\"])\n",
    "region_df0['predicted'] = metrics_0[\"predicted_valid\"]\n",
    "region_df0['profit'] = metrics_0[\"target_valid\"] * INCOME_ONE_PROD\n",
    "region_df0['region'] = 0\n",
    "\n",
    "region_df1 = pd.DataFrame(metrics_1[\"target_valid\"])\n",
    "region_df1['predicted'] = metrics_1[\"predicted_valid\"]\n",
    "region_df1['profit'] = metrics_1[\"target_valid\"] * INCOME_ONE_PROD\n",
    "region_df1['region'] = 1\n",
    "\n",
    "region_df2 = pd.DataFrame(metrics_2[\"target_valid\"])\n",
    "region_df2['predicted'] = metrics_2[\"predicted_valid\"]\n",
    "region_df2['profit'] = metrics_2[\"target_valid\"] * INCOME_ONE_PROD\n",
    "region_df2['region'] = 2"
   ]
  },
  {
   "cell_type": "markdown",
   "metadata": {},
   "source": [
    "**Выберем скважины с максимальными значениями предсказаний**"
   ]
  },
  {
   "cell_type": "code",
   "execution_count": 34,
   "metadata": {},
   "outputs": [
    {
     "data": {
      "text/html": [
       "<div>\n",
       "<style scoped>\n",
       "    .dataframe tbody tr th:only-of-type {\n",
       "        vertical-align: middle;\n",
       "    }\n",
       "\n",
       "    .dataframe tbody tr th {\n",
       "        vertical-align: top;\n",
       "    }\n",
       "\n",
       "    .dataframe thead th {\n",
       "        text-align: right;\n",
       "    }\n",
       "</style>\n",
       "<table border=\"1\" class=\"dataframe\">\n",
       "  <thead>\n",
       "    <tr style=\"text-align: right;\">\n",
       "      <th></th>\n",
       "      <th>product</th>\n",
       "      <th>predicted</th>\n",
       "      <th>profit</th>\n",
       "      <th>region</th>\n",
       "    </tr>\n",
       "  </thead>\n",
       "  <tbody>\n",
       "    <tr>\n",
       "      <th>46784</th>\n",
       "      <td>153.639837</td>\n",
       "      <td>176.583603</td>\n",
       "      <td>69137.926690</td>\n",
       "      <td>0</td>\n",
       "    </tr>\n",
       "    <tr>\n",
       "      <th>27658</th>\n",
       "      <td>140.631646</td>\n",
       "      <td>176.280262</td>\n",
       "      <td>63284.240894</td>\n",
       "      <td>0</td>\n",
       "    </tr>\n",
       "    <tr>\n",
       "      <th>6496</th>\n",
       "      <td>178.879516</td>\n",
       "      <td>173.285331</td>\n",
       "      <td>80495.782405</td>\n",
       "      <td>0</td>\n",
       "    </tr>\n",
       "    <tr>\n",
       "      <th>65743</th>\n",
       "      <td>176.807828</td>\n",
       "      <td>172.846546</td>\n",
       "      <td>79563.522555</td>\n",
       "      <td>0</td>\n",
       "    </tr>\n",
       "    <tr>\n",
       "      <th>93716</th>\n",
       "      <td>130.985681</td>\n",
       "      <td>172.666622</td>\n",
       "      <td>58943.556555</td>\n",
       "      <td>0</td>\n",
       "    </tr>\n",
       "    <tr>\n",
       "      <th>...</th>\n",
       "      <td>...</td>\n",
       "      <td>...</td>\n",
       "      <td>...</td>\n",
       "      <td>...</td>\n",
       "    </tr>\n",
       "    <tr>\n",
       "      <th>65549</th>\n",
       "      <td>162.142530</td>\n",
       "      <td>146.982832</td>\n",
       "      <td>72964.138624</td>\n",
       "      <td>0</td>\n",
       "    </tr>\n",
       "    <tr>\n",
       "      <th>9462</th>\n",
       "      <td>120.536962</td>\n",
       "      <td>146.980565</td>\n",
       "      <td>54241.632844</td>\n",
       "      <td>0</td>\n",
       "    </tr>\n",
       "    <tr>\n",
       "      <th>39838</th>\n",
       "      <td>138.424174</td>\n",
       "      <td>146.952343</td>\n",
       "      <td>62290.878428</td>\n",
       "      <td>0</td>\n",
       "    </tr>\n",
       "    <tr>\n",
       "      <th>65925</th>\n",
       "      <td>136.027691</td>\n",
       "      <td>146.923467</td>\n",
       "      <td>61212.460945</td>\n",
       "      <td>0</td>\n",
       "    </tr>\n",
       "    <tr>\n",
       "      <th>14042</th>\n",
       "      <td>132.951877</td>\n",
       "      <td>146.910721</td>\n",
       "      <td>59828.344528</td>\n",
       "      <td>0</td>\n",
       "    </tr>\n",
       "  </tbody>\n",
       "</table>\n",
       "<p>200 rows × 4 columns</p>\n",
       "</div>"
      ],
      "text/plain": [
       "          product   predicted        profit  region\n",
       "46784  153.639837  176.583603  69137.926690       0\n",
       "27658  140.631646  176.280262  63284.240894       0\n",
       "6496   178.879516  173.285331  80495.782405       0\n",
       "65743  176.807828  172.846546  79563.522555       0\n",
       "93716  130.985681  172.666622  58943.556555       0\n",
       "...           ...         ...           ...     ...\n",
       "65549  162.142530  146.982832  72964.138624       0\n",
       "9462   120.536962  146.980565  54241.632844       0\n",
       "39838  138.424174  146.952343  62290.878428       0\n",
       "65925  136.027691  146.923467  61212.460945       0\n",
       "14042  132.951877  146.910721  59828.344528       0\n",
       "\n",
       "[200 rows x 4 columns]"
      ]
     },
     "execution_count": 34,
     "metadata": {},
     "output_type": "execute_result"
    }
   ],
   "source": [
    "max_pred_df0 = region_df0.sort_values(by='predicted', ascending=False)[:200]\n",
    "max_pred_df0"
   ]
  },
  {
   "cell_type": "code",
   "execution_count": 35,
   "metadata": {},
   "outputs": [
    {
     "data": {
      "text/html": [
       "<div>\n",
       "<style scoped>\n",
       "    .dataframe tbody tr th:only-of-type {\n",
       "        vertical-align: middle;\n",
       "    }\n",
       "\n",
       "    .dataframe tbody tr th {\n",
       "        vertical-align: top;\n",
       "    }\n",
       "\n",
       "    .dataframe thead th {\n",
       "        text-align: right;\n",
       "    }\n",
       "</style>\n",
       "<table border=\"1\" class=\"dataframe\">\n",
       "  <thead>\n",
       "    <tr style=\"text-align: right;\">\n",
       "      <th></th>\n",
       "      <th>product</th>\n",
       "      <th>predicted</th>\n",
       "      <th>profit</th>\n",
       "      <th>region</th>\n",
       "    </tr>\n",
       "  </thead>\n",
       "  <tbody>\n",
       "    <tr>\n",
       "      <th>80439</th>\n",
       "      <td>137.945408</td>\n",
       "      <td>139.981970</td>\n",
       "      <td>62075.433483</td>\n",
       "      <td>1</td>\n",
       "    </tr>\n",
       "    <tr>\n",
       "      <th>14041</th>\n",
       "      <td>137.945408</td>\n",
       "      <td>139.698618</td>\n",
       "      <td>62075.433483</td>\n",
       "      <td>1</td>\n",
       "    </tr>\n",
       "    <tr>\n",
       "      <th>62413</th>\n",
       "      <td>137.945408</td>\n",
       "      <td>139.616104</td>\n",
       "      <td>62075.433483</td>\n",
       "      <td>1</td>\n",
       "    </tr>\n",
       "    <tr>\n",
       "      <th>55563</th>\n",
       "      <td>137.945408</td>\n",
       "      <td>139.517149</td>\n",
       "      <td>62075.433483</td>\n",
       "      <td>1</td>\n",
       "    </tr>\n",
       "    <tr>\n",
       "      <th>42432</th>\n",
       "      <td>137.945408</td>\n",
       "      <td>139.474323</td>\n",
       "      <td>62075.433483</td>\n",
       "      <td>1</td>\n",
       "    </tr>\n",
       "    <tr>\n",
       "      <th>...</th>\n",
       "      <td>...</td>\n",
       "      <td>...</td>\n",
       "      <td>...</td>\n",
       "      <td>...</td>\n",
       "    </tr>\n",
       "    <tr>\n",
       "      <th>99088</th>\n",
       "      <td>137.945408</td>\n",
       "      <td>138.429757</td>\n",
       "      <td>62075.433483</td>\n",
       "      <td>1</td>\n",
       "    </tr>\n",
       "    <tr>\n",
       "      <th>5058</th>\n",
       "      <td>137.945408</td>\n",
       "      <td>138.427348</td>\n",
       "      <td>62075.433483</td>\n",
       "      <td>1</td>\n",
       "    </tr>\n",
       "    <tr>\n",
       "      <th>80836</th>\n",
       "      <td>137.945408</td>\n",
       "      <td>138.424756</td>\n",
       "      <td>62075.433483</td>\n",
       "      <td>1</td>\n",
       "    </tr>\n",
       "    <tr>\n",
       "      <th>77320</th>\n",
       "      <td>137.945408</td>\n",
       "      <td>138.424544</td>\n",
       "      <td>62075.433483</td>\n",
       "      <td>1</td>\n",
       "    </tr>\n",
       "    <tr>\n",
       "      <th>68253</th>\n",
       "      <td>137.945408</td>\n",
       "      <td>138.423565</td>\n",
       "      <td>62075.433483</td>\n",
       "      <td>1</td>\n",
       "    </tr>\n",
       "  </tbody>\n",
       "</table>\n",
       "<p>200 rows × 4 columns</p>\n",
       "</div>"
      ],
      "text/plain": [
       "          product   predicted        profit  region\n",
       "80439  137.945408  139.981970  62075.433483       1\n",
       "14041  137.945408  139.698618  62075.433483       1\n",
       "62413  137.945408  139.616104  62075.433483       1\n",
       "55563  137.945408  139.517149  62075.433483       1\n",
       "42432  137.945408  139.474323  62075.433483       1\n",
       "...           ...         ...           ...     ...\n",
       "99088  137.945408  138.429757  62075.433483       1\n",
       "5058   137.945408  138.427348  62075.433483       1\n",
       "80836  137.945408  138.424756  62075.433483       1\n",
       "77320  137.945408  138.424544  62075.433483       1\n",
       "68253  137.945408  138.423565  62075.433483       1\n",
       "\n",
       "[200 rows x 4 columns]"
      ]
     },
     "execution_count": 35,
     "metadata": {},
     "output_type": "execute_result"
    }
   ],
   "source": [
    "max_pred_df1 = region_df1.sort_values(by='predicted', ascending=False)[:200]\n",
    "max_pred_df1"
   ]
  },
  {
   "cell_type": "code",
   "execution_count": 36,
   "metadata": {},
   "outputs": [
    {
     "data": {
      "text/html": [
       "<div>\n",
       "<style scoped>\n",
       "    .dataframe tbody tr th:only-of-type {\n",
       "        vertical-align: middle;\n",
       "    }\n",
       "\n",
       "    .dataframe tbody tr th {\n",
       "        vertical-align: top;\n",
       "    }\n",
       "\n",
       "    .dataframe thead th {\n",
       "        text-align: right;\n",
       "    }\n",
       "</style>\n",
       "<table border=\"1\" class=\"dataframe\">\n",
       "  <thead>\n",
       "    <tr style=\"text-align: right;\">\n",
       "      <th></th>\n",
       "      <th>product</th>\n",
       "      <th>predicted</th>\n",
       "      <th>profit</th>\n",
       "      <th>region</th>\n",
       "    </tr>\n",
       "  </thead>\n",
       "  <tbody>\n",
       "    <tr>\n",
       "      <th>43931</th>\n",
       "      <td>101.225039</td>\n",
       "      <td>170.665654</td>\n",
       "      <td>45551.267442</td>\n",
       "      <td>2</td>\n",
       "    </tr>\n",
       "    <tr>\n",
       "      <th>84047</th>\n",
       "      <td>151.655778</td>\n",
       "      <td>169.610555</td>\n",
       "      <td>68245.099934</td>\n",
       "      <td>2</td>\n",
       "    </tr>\n",
       "    <tr>\n",
       "      <th>54085</th>\n",
       "      <td>92.947333</td>\n",
       "      <td>165.235884</td>\n",
       "      <td>41826.299828</td>\n",
       "      <td>2</td>\n",
       "    </tr>\n",
       "    <tr>\n",
       "      <th>89165</th>\n",
       "      <td>97.775979</td>\n",
       "      <td>164.789208</td>\n",
       "      <td>43999.190604</td>\n",
       "      <td>2</td>\n",
       "    </tr>\n",
       "    <tr>\n",
       "      <th>64380</th>\n",
       "      <td>122.460897</td>\n",
       "      <td>164.006269</td>\n",
       "      <td>55107.403490</td>\n",
       "      <td>2</td>\n",
       "    </tr>\n",
       "    <tr>\n",
       "      <th>...</th>\n",
       "      <td>...</td>\n",
       "      <td>...</td>\n",
       "      <td>...</td>\n",
       "      <td>...</td>\n",
       "    </tr>\n",
       "    <tr>\n",
       "      <th>25434</th>\n",
       "      <td>179.654566</td>\n",
       "      <td>142.593370</td>\n",
       "      <td>80844.554650</td>\n",
       "      <td>2</td>\n",
       "    </tr>\n",
       "    <tr>\n",
       "      <th>69600</th>\n",
       "      <td>121.983862</td>\n",
       "      <td>142.553995</td>\n",
       "      <td>54892.737710</td>\n",
       "      <td>2</td>\n",
       "    </tr>\n",
       "    <tr>\n",
       "      <th>66721</th>\n",
       "      <td>165.966133</td>\n",
       "      <td>142.532388</td>\n",
       "      <td>74684.759774</td>\n",
       "      <td>2</td>\n",
       "    </tr>\n",
       "    <tr>\n",
       "      <th>50983</th>\n",
       "      <td>128.032050</td>\n",
       "      <td>142.481133</td>\n",
       "      <td>57614.422279</td>\n",
       "      <td>2</td>\n",
       "    </tr>\n",
       "    <tr>\n",
       "      <th>47827</th>\n",
       "      <td>151.695643</td>\n",
       "      <td>142.394582</td>\n",
       "      <td>68263.039297</td>\n",
       "      <td>2</td>\n",
       "    </tr>\n",
       "  </tbody>\n",
       "</table>\n",
       "<p>200 rows × 4 columns</p>\n",
       "</div>"
      ],
      "text/plain": [
       "          product   predicted        profit  region\n",
       "43931  101.225039  170.665654  45551.267442       2\n",
       "84047  151.655778  169.610555  68245.099934       2\n",
       "54085   92.947333  165.235884  41826.299828       2\n",
       "89165   97.775979  164.789208  43999.190604       2\n",
       "64380  122.460897  164.006269  55107.403490       2\n",
       "...           ...         ...           ...     ...\n",
       "25434  179.654566  142.593370  80844.554650       2\n",
       "69600  121.983862  142.553995  54892.737710       2\n",
       "66721  165.966133  142.532388  74684.759774       2\n",
       "50983  128.032050  142.481133  57614.422279       2\n",
       "47827  151.695643  142.394582  68263.039297       2\n",
       "\n",
       "[200 rows x 4 columns]"
      ]
     },
     "execution_count": 36,
     "metadata": {},
     "output_type": "execute_result"
    }
   ],
   "source": [
    "max_pred_df2 = region_df2.sort_values(by='predicted', ascending=False)[:200]\n",
    "max_pred_df2"
   ]
  },
  {
   "cell_type": "markdown",
   "metadata": {},
   "source": [
    "**Просуммируем целевое значение объёма сырья, соответствующее этим предсказаниям**"
   ]
  },
  {
   "cell_type": "code",
   "execution_count": 37,
   "metadata": {},
   "outputs": [
    {
     "name": "stdout",
     "output_type": "stream",
     "text": [
      "Целевое значение объёма сырья geo_data_0: 29687.0 тыс.баррелей\n",
      "Целевое значение объёма сырья geo_data_1: 27589.1 тыс.баррелей\n",
      "Целевое значение объёма сырья geo_data_2: 27940.0 тыс.баррелей\n"
     ]
    }
   ],
   "source": [
    "sum_oil_df0 = max_pred_df0['product'].sum()\n",
    "print(f'Целевое значение объёма сырья geo_data_0: %.1f тыс.баррелей'%sum_oil_df0)\n",
    "sum_oil_df1 = max_pred_df1['product'].sum()\n",
    "print(f'Целевое значение объёма сырья geo_data_1: %.1f тыс.баррелей'%sum_oil_df1)\n",
    "sum_oil_df2 = max_pred_df2['product'].sum()\n",
    "print(f'Целевое значение объёма сырья geo_data_2: %.1f тыс.баррелей'%sum_oil_df2)"
   ]
  },
  {
   "cell_type": "code",
   "execution_count": 38,
   "metadata": {},
   "outputs": [
    {
     "name": "stdout",
     "output_type": "stream",
     "text": [
      "Прибыль для полученного объёма сырья geo_data_0: 0.00 млрд.руб.\n",
      "Прибыль для полученного объёма сырья geo_data_1: 0.00 млрд.руб.\n",
      "Прибыль для полученного объёма сырья geo_data_2: 0.00 млрд.руб.\n"
     ]
    }
   ],
   "source": [
    "profit_df0 = round(((sum_oil_df0 * INCOME_ONE_PROD) - BUDGET)/1000000000,2)\n",
    "print('Прибыль для полученного объёма сырья geo_data_0: {:.2f} млрд.руб.'.format(profit_df0))\n",
    "profit_df1 = round(((sum_oil_df1 * INCOME_ONE_PROD) - BUDGET)/1000000000,2)\n",
    "print('Прибыль для полученного объёма сырья geo_data_1: {:.2f} млрд.руб.'.format(profit_df1))\n",
    "profit_df2 = round(((sum_oil_df2 * INCOME_ONE_PROD) - BUDGET)/1000000000,2)\n",
    "print('Прибыль для полученного объёма сырья geo_data_2: {:.2f} млрд.руб.'.format(profit_df2))"
   ]
  },
  {
   "cell_type": "markdown",
   "metadata": {},
   "source": [
    "## Посчитаем риски и прибыль для каждого региона"
   ]
  },
  {
   "cell_type": "markdown",
   "metadata": {},
   "source": [
    "**Применим технику Bootstrap с 1000 выборок, чтобы найти распределение прибыли**"
   ]
  },
  {
   "cell_type": "code",
   "execution_count": 39,
   "metadata": {},
   "outputs": [],
   "source": [
    "def profit_for_vp2(predict,target,count):\n",
    "    probs_sorted = pd.Series(predict).sort_values(ascending=False)\n",
    "    selected_points = target[probs_sorted.index][:count]\n",
    "    product = selected_points.sum()\n",
    "    revenue = product * INCOME_ONE_PROD\n",
    "    return revenue - BUDGET"
   ]
  },
  {
   "cell_type": "code",
   "execution_count": 47,
   "metadata": {},
   "outputs": [],
   "source": [
    "def bootstap_1000(target,predict):\n",
    "    values = []\n",
    "    count=0\n",
    "    state = np.random.RandomState(12345)\n",
    "    predict_e = pd.Series(predict, index=target.index)\n",
    "    \n",
    "    for i in tqdm(range(1000)):\n",
    "        target_subsample = target.sample(n=500,replace=True, random_state=state)\n",
    "  \n",
    "        probs_subsample = predict_e[target_subsample.index]\n",
    "        values.append(profit_for_vp2(probs_subsample,target_subsample, 200))  \n",
    "\n",
    "            \n",
    "    values = pd.Series(values)\n",
    "    mean = values.mean()\n",
    "    loss = values[values<0]\n",
    "    plt.title('Распределение прибыли')\n",
    "    values.plot(kind=\"hist\", grid=True, figsize=(8,5))\n",
    "    plt.xlabel('Прибыль, тыс.руб')\n",
    "    plt.ylabel('Количество')\n",
    "    plt.show()\n",
    "    \n",
    "    low_95 = values.quantile(0.025)\n",
    "    high_95 = values.quantile(0.975)\n",
    "    \n",
    "    print(\"Средняя прибыль: {:.2f} млн.руб\".format(mean/1000))\n",
    "    print(\"95%-ый доверительный интервал: от {:.2f} млн.руб до {:.2f} млн.руб\".format(low_95,high_95))\n",
    "    print ('Процент вероятности убытка в данном регионе составит {:.2%}'.format(loss.count()/len(values)))"
   ]
  },
  {
   "cell_type": "markdown",
   "metadata": {},
   "source": [
    "**Регион 0**"
   ]
  },
  {
   "cell_type": "code",
   "execution_count": 49,
   "metadata": {},
   "outputs": [
    {
     "data": {
      "application/vnd.jupyter.widget-view+json": {
       "model_id": "9ba9b14414ef496283f4c8dc9387394a",
       "version_major": 2,
       "version_minor": 0
      },
      "text/plain": [
       "  0%|          | 0/1000 [00:00<?, ?it/s]"
      ]
     },
     "metadata": {},
     "output_type": "display_data"
    },
    {
     "data": {
      "image/png": "[encoded data removed]",
      "text/plain": [
       "<Figure size 576x360 with 1 Axes>"
      ]
     },
     "metadata": {
      "needs_background": "light"
     },
     "output_type": "display_data"
    },
    {
     "name": "stdout",
     "output_type": "stream",
     "text": [
      "Средняя прибыль: 435.84 млн.руб\n",
      "95%-ый доверительный интервал: от -124968.73 млн.руб до 966504.18 млн.руб\n",
      "Процент вероятности убытка в данном регионе составит 6.20%\n"
     ]
    }
   ],
   "source": [
    "bootstap_1000(target_valid_0, predict_0)"
   ]
  },
  {
   "cell_type": "markdown",
   "metadata": {},
   "source": [
    "**Регион 1**"
   ]
  },
  {
   "cell_type": "code",
   "execution_count": 50,
   "metadata": {},
   "outputs": [
    {
     "data": {
      "application/vnd.jupyter.widget-view+json": {
       "model_id": "a9bed59c8b8d449ea2c7d8360d1f7855",
       "version_major": 2,
       "version_minor": 0
      },
      "text/plain": [
       "  0%|          | 0/1000 [00:00<?, ?it/s]"
      ]
     },
     "metadata": {},
     "output_type": "display_data"
    },
    {
     "data": {
      "image/png": "[encoded data removed]",
      "text/plain": [
       "<Figure size 576x360 with 1 Axes>"
      ]
     },
     "metadata": {
      "needs_background": "light"
     },
     "output_type": "display_data"
    },
    {
     "name": "stdout",
     "output_type": "stream",
     "text": [
      "Средняя прибыль: 489.66 млн.руб\n",
      "95%-ый доверительный интервал: от 55116.18 млн.руб до 905762.65 млн.руб\n",
      "Процент вероятности убытка в данном регионе составит 1.10%\n"
     ]
    }
   ],
   "source": [
    "bootstap_1000(target_valid_1,predict_1)"
   ]
  },
  {
   "cell_type": "markdown",
   "metadata": {},
   "source": [
    "**Регион 2**"
   ]
  },
  {
   "cell_type": "code",
   "execution_count": 51,
   "metadata": {},
   "outputs": [
    {
     "data": {
      "application/vnd.jupyter.widget-view+json": {
       "model_id": "90b94f04eddc479f880a2cca2df10f78",
       "version_major": 2,
       "version_minor": 0
      },
      "text/plain": [
       "  0%|          | 0/1000 [00:00<?, ?it/s]"
      ]
     },
     "metadata": {},
     "output_type": "display_data"
    },
    {
     "data": {
      "image/png": "[encoded data removed]",
      "text/plain": [
       "<Figure size 576x360 with 1 Axes>"
      ]
     },
     "metadata": {
      "needs_background": "light"
     },
     "output_type": "display_data"
    },
    {
     "name": "stdout",
     "output_type": "stream",
     "text": [
      "Средняя прибыль: 403.95 млн.руб\n",
      "95%-ый доверительный интервал: от -142153.28 млн.руб до 958286.80 млн.руб\n",
      "Процент вероятности убытка в данном регионе составит 7.00%\n"
     ]
    }
   ],
   "source": [
    "bootstap_1000(target_valid_2,predict_2)"
   ]
  },
  {
   "cell_type": "markdown",
   "metadata": {},
   "source": [
    "**Оставим лишь те регионы, в которых вероятность убытков меньше 2.5%. Среди них выберем регион с наибольшей средней прибылью.**"
   ]
  },
  {
   "cell_type": "markdown",
   "metadata": {},
   "source": [
    "**Вывод**\n",
    "\n",
    "- Самый прибыльный регион- второй. (489.7 млн руб)\n",
    "- У первого и третьего регионов вероятность убытка больше 2.5%, следовательно они нам не подходят."
   ]
  },
  {
   "cell_type": "markdown",
   "metadata": {},
   "source": [
    "## Вывод"
   ]
  },
  {
   "cell_type": "markdown",
   "metadata": {},
   "source": [
    "- Исследовали данные по запасам в скважинах трёх регионов.\n",
    "- Мы обучили модель и выполнили предсказания при помощи линейной регрессии, а так же применили технологию bootstrap с разделением каждого предсказанного значения прибыли по регионам на 1000 выборок.\n",
    "- По результату полученных данных мы определили доверительный интревал получения прибыли в 95%, ограничили вероятность убытка величиной менее 2,5%. И на основе этих данных смогли выбрать более перспективный регион для разработки 200 скважин.\n",
    "- Сделали выбор в сторону разработки 200 скважин во 2 регионе."
   ]
  },
  {
   "cell_type": "markdown",
   "metadata": {},
   "source": [
    "## Чек-лист готовности проекта"
   ]
  },
  {
   "cell_type": "markdown",
   "metadata": {},
   "source": [
    "Поставьте 'x' в выполненных пунктах. Далее нажмите Shift+Enter."
   ]
  },
  {
   "cell_type": "markdown",
   "metadata": {},
   "source": [
    "- [x]  Jupyter Notebook открыт\n",
    "- [x]  Весь код выполняется без ошибок\n",
    "- [x]  Ячейки с кодом расположены в порядке исполнения\n",
    "- [x]  Выполнен шаг 1: данные подготовлены\n",
    "- [x]  Выполнен шаг 2: модели обучены и проверены\n",
    "    - [x]  Данные корректно разбиты на обучающую и валидационную выборки\n",
    "    - [x]  Модели обучены, предсказания сделаны\n",
    "    - [x]  Предсказания и правильные ответы на валидационной выборке сохранены\n",
    "    - [x]  На экране напечатаны результаты\n",
    "    - [x]  Сделаны выводы\n",
    "- [x]  Выполнен шаг 3: проведена подготовка к расчёту прибыли\n",
    "    - [x]  Для всех ключевых значений созданы константы Python\n",
    "    - [x]  Посчитано минимальное среднее количество продукта в месторождениях региона, достаточное для разработки\n",
    "    - [x]  По предыдущему пункту сделаны выводы\n",
    "    - [x]  Написана функция расчёта прибыли\n",
    "- [x]  Выполнен шаг 4: посчитаны риски и прибыль\n",
    "    - [x]  Проведена процедура *Bootstrap*\n",
    "    - [x]  Все параметры бутстрепа соответствуют условию\n",
    "    - [x]  Найдены все нужные величины\n",
    "    - [x]  Предложен регион для разработки месторождения\n",
    "    - [x]  Выбор региона обоснован"
   ]
  }
 ],
 "metadata": {
  "ExecuteTimeLog": [
   {
    "duration": 47,
    "start_time": "2024-04-22T08:49:05.638Z"
   },
   {
    "duration": 1513,
    "start_time": "2024-04-22T08:49:19.283Z"
   },
   {
    "duration": 610,
    "start_time": "2024-04-22T08:49:20.798Z"
   },
   {
    "duration": 599,
    "start_time": "2024-04-22T08:49:34.155Z"
   },
   {
    "duration": 612,
    "start_time": "2024-04-22T08:49:43.713Z"
   },
   {
    "duration": 70,
    "start_time": "2024-04-22T08:54:17.885Z"
   },
   {
    "duration": 36,
    "start_time": "2024-04-22T08:54:23.801Z"
   },
   {
    "duration": 34,
    "start_time": "2024-04-22T08:55:58.917Z"
   },
   {
    "duration": 35,
    "start_time": "2024-04-22T08:56:05.064Z"
   },
   {
    "duration": 89,
    "start_time": "2024-04-22T08:58:55.245Z"
   },
   {
    "duration": 16,
    "start_time": "2024-04-22T08:59:08.295Z"
   },
   {
    "duration": 7,
    "start_time": "2024-04-22T08:59:55.899Z"
   },
   {
    "duration": 6,
    "start_time": "2024-04-22T09:00:06.120Z"
   },
   {
    "duration": 6,
    "start_time": "2024-04-22T09:00:13.339Z"
   },
   {
    "duration": 13,
    "start_time": "2024-04-22T09:02:36.239Z"
   },
   {
    "duration": 524,
    "start_time": "2024-04-22T09:02:55.440Z"
   },
   {
    "duration": 585,
    "start_time": "2024-04-22T09:03:02.067Z"
   },
   {
    "duration": 528,
    "start_time": "2024-04-22T09:03:14.047Z"
   },
   {
    "duration": 577,
    "start_time": "2024-04-22T09:03:19.754Z"
   },
   {
    "duration": 602,
    "start_time": "2024-04-22T09:03:28.821Z"
   },
   {
    "duration": 507,
    "start_time": "2024-04-22T09:03:34.616Z"
   },
   {
    "duration": 504,
    "start_time": "2024-04-22T09:04:01.607Z"
   },
   {
    "duration": 584,
    "start_time": "2024-04-22T09:04:18.341Z"
   },
   {
    "duration": 508,
    "start_time": "2024-04-22T09:04:26.538Z"
   },
   {
    "duration": 592,
    "start_time": "2024-04-22T09:04:47.510Z"
   },
   {
    "duration": 499,
    "start_time": "2024-04-22T09:04:50.397Z"
   },
   {
    "duration": 510,
    "start_time": "2024-04-22T09:05:01.671Z"
   },
   {
    "duration": 612,
    "start_time": "2024-04-22T09:05:09.065Z"
   },
   {
    "duration": 483,
    "start_time": "2024-04-22T09:05:13.015Z"
   },
   {
    "duration": 535,
    "start_time": "2024-04-22T09:05:17.251Z"
   },
   {
    "duration": 211,
    "start_time": "2024-04-22T09:05:36.315Z"
   },
   {
    "duration": 325,
    "start_time": "2024-04-22T09:05:44.710Z"
   },
   {
    "duration": 5,
    "start_time": "2024-04-22T09:15:50.017Z"
   },
   {
    "duration": 30,
    "start_time": "2024-04-22T09:16:00.469Z"
   },
   {
    "duration": 13,
    "start_time": "2024-04-22T10:07:02.763Z"
   },
   {
    "duration": 63,
    "start_time": "2024-04-22T10:07:21.319Z"
   },
   {
    "duration": 51,
    "start_time": "2024-04-22T10:07:35.829Z"
   },
   {
    "duration": 1859,
    "start_time": "2024-04-22T10:07:44.013Z"
   },
   {
    "duration": 4,
    "start_time": "2024-04-22T10:08:02.277Z"
   },
   {
    "duration": 154,
    "start_time": "2024-04-22T10:08:02.895Z"
   },
   {
    "duration": 34,
    "start_time": "2024-04-22T10:08:03.247Z"
   },
   {
    "duration": 11,
    "start_time": "2024-04-22T10:08:03.640Z"
   },
   {
    "duration": 141,
    "start_time": "2024-04-22T10:08:03.880Z"
   },
   {
    "duration": 34,
    "start_time": "2024-04-22T10:08:04.025Z"
   },
   {
    "duration": 12,
    "start_time": "2024-04-22T10:08:04.178Z"
   },
   {
    "duration": 151,
    "start_time": "2024-04-22T10:08:04.329Z"
   },
   {
    "duration": 40,
    "start_time": "2024-04-22T10:08:04.482Z"
   },
   {
    "duration": 11,
    "start_time": "2024-04-22T10:08:04.617Z"
   },
   {
    "duration": 185,
    "start_time": "2024-04-22T10:08:04.910Z"
   },
   {
    "duration": 533,
    "start_time": "2024-04-22T10:08:05.170Z"
   },
   {
    "duration": 233,
    "start_time": "2024-04-22T10:08:05.705Z"
   },
   {
    "duration": 628,
    "start_time": "2024-04-22T10:08:05.940Z"
   },
   {
    "duration": 562,
    "start_time": "2024-04-22T10:08:07.601Z"
   },
   {
    "duration": 514,
    "start_time": "2024-04-22T10:09:01.002Z"
   },
   {
    "duration": 543,
    "start_time": "2024-04-22T10:09:33.943Z"
   },
   {
    "duration": 10,
    "start_time": "2024-04-22T10:10:40.884Z"
   },
   {
    "duration": 13,
    "start_time": "2024-04-22T10:11:11.083Z"
   },
   {
    "duration": 18,
    "start_time": "2024-04-22T10:11:28.038Z"
   },
   {
    "duration": 14,
    "start_time": "2024-04-22T10:11:37.847Z"
   },
   {
    "duration": 26,
    "start_time": "2024-04-22T10:13:52.715Z"
   },
   {
    "duration": 17,
    "start_time": "2024-04-22T10:14:07.201Z"
   },
   {
    "duration": 16,
    "start_time": "2024-04-22T10:14:25.398Z"
   },
   {
    "duration": 17,
    "start_time": "2024-04-22T10:14:46.213Z"
   },
   {
    "duration": 18,
    "start_time": "2024-04-22T10:15:38.631Z"
   },
   {
    "duration": 15,
    "start_time": "2024-04-22T10:15:39.328Z"
   },
   {
    "duration": 18,
    "start_time": "2024-04-22T10:15:40.121Z"
   },
   {
    "duration": 12,
    "start_time": "2024-04-22T10:18:36.873Z"
   },
   {
    "duration": 11,
    "start_time": "2024-04-22T10:18:42.223Z"
   },
   {
    "duration": 12,
    "start_time": "2024-04-22T10:18:48.248Z"
   },
   {
    "duration": 12,
    "start_time": "2024-04-22T10:30:10.154Z"
   },
   {
    "duration": 6,
    "start_time": "2024-04-22T10:33:56.877Z"
   },
   {
    "duration": 3,
    "start_time": "2024-04-22T10:34:36.795Z"
   },
   {
    "duration": 3,
    "start_time": "2024-04-22T10:35:27.790Z"
   },
   {
    "duration": 3,
    "start_time": "2024-04-22T10:36:35.809Z"
   },
   {
    "duration": 5,
    "start_time": "2024-04-22T10:42:48.508Z"
   },
   {
    "duration": 4,
    "start_time": "2024-04-22T10:42:48.874Z"
   },
   {
    "duration": 4,
    "start_time": "2024-04-22T10:42:49.102Z"
   },
   {
    "duration": 4,
    "start_time": "2024-04-22T10:42:50.088Z"
   },
   {
    "duration": 10,
    "start_time": "2024-04-22T10:44:50.928Z"
   },
   {
    "duration": 4,
    "start_time": "2024-04-22T10:44:56.188Z"
   },
   {
    "duration": 5,
    "start_time": "2024-04-22T10:46:49.601Z"
   },
   {
    "duration": 4,
    "start_time": "2024-04-22T10:46:49.962Z"
   },
   {
    "duration": 3,
    "start_time": "2024-04-22T10:46:50.350Z"
   },
   {
    "duration": 1322,
    "start_time": "2024-04-22T10:46:50.866Z"
   },
   {
    "duration": 1465,
    "start_time": "2024-04-22T10:47:01.684Z"
   },
   {
    "duration": 3,
    "start_time": "2024-04-22T10:47:47.653Z"
   },
   {
    "duration": 3,
    "start_time": "2024-04-22T10:48:02.103Z"
   },
   {
    "duration": 3,
    "start_time": "2024-04-22T10:48:08.888Z"
   },
   {
    "duration": 4,
    "start_time": "2024-04-22T10:48:48.380Z"
   },
   {
    "duration": 3,
    "start_time": "2024-04-22T10:48:54.338Z"
   },
   {
    "duration": 13,
    "start_time": "2024-04-22T10:49:44.453Z"
   },
   {
    "duration": 11,
    "start_time": "2024-04-22T10:49:50.682Z"
   },
   {
    "duration": 14,
    "start_time": "2024-04-22T11:58:15.560Z"
   },
   {
    "duration": 4,
    "start_time": "2024-04-22T11:58:21.509Z"
   },
   {
    "duration": 12,
    "start_time": "2024-04-22T11:58:22.397Z"
   },
   {
    "duration": 12,
    "start_time": "2024-04-22T11:58:22.791Z"
   },
   {
    "duration": 43,
    "start_time": "2024-04-22T12:05:18.635Z"
   },
   {
    "duration": 7,
    "start_time": "2024-04-22T12:13:05.304Z"
   },
   {
    "duration": 114,
    "start_time": "2024-04-22T12:28:57.271Z"
   },
   {
    "duration": 10,
    "start_time": "2024-04-22T12:33:40.995Z"
   },
   {
    "duration": 10,
    "start_time": "2024-04-22T12:33:53.935Z"
   },
   {
    "duration": 4,
    "start_time": "2024-04-22T12:35:39.668Z"
   },
   {
    "duration": 4,
    "start_time": "2024-04-22T12:35:53.517Z"
   },
   {
    "duration": 21,
    "start_time": "2024-04-22T12:35:54.139Z"
   },
   {
    "duration": 30,
    "start_time": "2024-04-22T12:35:54.951Z"
   },
   {
    "duration": 14,
    "start_time": "2024-04-22T12:35:57.868Z"
   },
   {
    "duration": 168,
    "start_time": "2024-04-22T12:35:58.605Z"
   },
   {
    "duration": 11,
    "start_time": "2024-04-22T12:35:59.082Z"
   },
   {
    "duration": 22,
    "start_time": "2024-04-22T12:36:03.599Z"
   },
   {
    "duration": 11,
    "start_time": "2024-04-22T12:36:13.902Z"
   },
   {
    "duration": 4,
    "start_time": "2024-04-22T12:36:55.966Z"
   },
   {
    "duration": 4,
    "start_time": "2024-04-22T12:37:04.456Z"
   },
   {
    "duration": 4,
    "start_time": "2024-04-22T12:37:13.069Z"
   },
   {
    "duration": 12,
    "start_time": "2024-04-22T12:37:14.031Z"
   },
   {
    "duration": 6,
    "start_time": "2024-04-22T12:37:19.859Z"
   },
   {
    "duration": 4,
    "start_time": "2024-04-22T12:37:20.245Z"
   },
   {
    "duration": 4,
    "start_time": "2024-04-22T12:37:20.958Z"
   },
   {
    "duration": 7,
    "start_time": "2024-04-22T12:37:21.544Z"
   },
   {
    "duration": 10,
    "start_time": "2024-04-22T12:37:22.589Z"
   },
   {
    "duration": 11,
    "start_time": "2024-04-22T12:38:49.186Z"
   },
   {
    "duration": 14,
    "start_time": "2024-04-22T12:38:58.572Z"
   },
   {
    "duration": 16,
    "start_time": "2024-04-22T12:38:59.273Z"
   },
   {
    "duration": 16,
    "start_time": "2024-04-22T12:39:16.127Z"
   },
   {
    "duration": 19,
    "start_time": "2024-04-22T12:39:24.486Z"
   },
   {
    "duration": 6,
    "start_time": "2024-04-22T12:41:55.387Z"
   },
   {
    "duration": 4,
    "start_time": "2024-04-22T12:43:06.334Z"
   },
   {
    "duration": 6,
    "start_time": "2024-04-22T12:44:23.878Z"
   },
   {
    "duration": 10,
    "start_time": "2024-04-22T12:44:30.512Z"
   },
   {
    "duration": 6,
    "start_time": "2024-04-22T12:44:50.949Z"
   },
   {
    "duration": 18,
    "start_time": "2024-04-22T12:44:51.365Z"
   },
   {
    "duration": 14,
    "start_time": "2024-04-22T12:45:54.624Z"
   },
   {
    "duration": 14,
    "start_time": "2024-04-22T12:46:10.848Z"
   },
   {
    "duration": 5,
    "start_time": "2024-04-22T12:46:25.972Z"
   },
   {
    "duration": 5,
    "start_time": "2024-04-22T12:46:48.604Z"
   },
   {
    "duration": 5,
    "start_time": "2024-04-22T12:47:02.576Z"
   },
   {
    "duration": 5,
    "start_time": "2024-04-22T12:52:58.898Z"
   },
   {
    "duration": 1030,
    "start_time": "2024-04-22T12:53:47.628Z"
   },
   {
    "duration": 5,
    "start_time": "2024-04-22T12:55:07.278Z"
   },
   {
    "duration": 1030,
    "start_time": "2024-04-22T12:55:08.851Z"
   },
   {
    "duration": 991,
    "start_time": "2024-04-22T12:55:38.686Z"
   },
   {
    "duration": 183,
    "start_time": "2024-04-22T12:55:43.841Z"
   },
   {
    "duration": 991,
    "start_time": "2024-04-22T12:55:44.038Z"
   },
   {
    "duration": 999,
    "start_time": "2024-04-22T12:55:48.305Z"
   },
   {
    "duration": 1024,
    "start_time": "2024-04-22T12:56:07.729Z"
   },
   {
    "duration": 7,
    "start_time": "2024-04-22T12:59:47.347Z"
   },
   {
    "duration": 1069,
    "start_time": "2024-04-22T12:59:47.989Z"
   },
   {
    "duration": 1032,
    "start_time": "2024-04-22T12:59:50.936Z"
   },
   {
    "duration": 10,
    "start_time": "2024-04-22T13:04:40.576Z"
   },
   {
    "duration": 42,
    "start_time": "2024-04-22T13:04:57.451Z"
   },
   {
    "duration": 4,
    "start_time": "2024-04-22T13:05:05.332Z"
   },
   {
    "duration": 7,
    "start_time": "2024-04-22T13:05:05.548Z"
   },
   {
    "duration": 1783,
    "start_time": "2024-04-22T13:05:07.259Z"
   },
   {
    "duration": 7,
    "start_time": "2024-04-22T13:05:34.042Z"
   },
   {
    "duration": 1865,
    "start_time": "2024-04-22T13:05:35.054Z"
   },
   {
    "duration": 7,
    "start_time": "2024-04-22T13:05:46.006Z"
   },
   {
    "duration": 1757,
    "start_time": "2024-04-22T13:05:47.184Z"
   },
   {
    "duration": 6,
    "start_time": "2024-04-22T13:06:12.094Z"
   },
   {
    "duration": 4,
    "start_time": "2024-04-22T13:06:12.454Z"
   },
   {
    "duration": 4,
    "start_time": "2024-04-22T13:06:12.774Z"
   },
   {
    "duration": 6,
    "start_time": "2024-04-22T13:06:13.069Z"
   },
   {
    "duration": 15,
    "start_time": "2024-04-22T13:06:13.515Z"
   },
   {
    "duration": 16,
    "start_time": "2024-04-22T13:06:13.815Z"
   },
   {
    "duration": 15,
    "start_time": "2024-04-22T13:06:13.976Z"
   },
   {
    "duration": 25,
    "start_time": "2024-04-22T13:06:14.131Z"
   },
   {
    "duration": 6,
    "start_time": "2024-04-22T13:06:14.426Z"
   },
   {
    "duration": 6,
    "start_time": "2024-04-22T13:06:14.564Z"
   },
   {
    "duration": 4,
    "start_time": "2024-04-22T13:06:15.004Z"
   },
   {
    "duration": 10,
    "start_time": "2024-04-22T13:06:15.141Z"
   },
   {
    "duration": 1690,
    "start_time": "2024-04-22T13:06:15.428Z"
   },
   {
    "duration": 5,
    "start_time": "2024-04-22T13:07:05.463Z"
   },
   {
    "duration": 4,
    "start_time": "2024-04-22T13:07:05.774Z"
   },
   {
    "duration": 4,
    "start_time": "2024-04-22T13:07:06.024Z"
   },
   {
    "duration": 6,
    "start_time": "2024-04-22T13:07:06.285Z"
   },
   {
    "duration": 12,
    "start_time": "2024-04-22T13:07:06.707Z"
   },
   {
    "duration": 17,
    "start_time": "2024-04-22T13:07:07.233Z"
   },
   {
    "duration": 15,
    "start_time": "2024-04-22T13:07:07.253Z"
   },
   {
    "duration": 21,
    "start_time": "2024-04-22T13:07:07.289Z"
   },
   {
    "duration": 7,
    "start_time": "2024-04-22T13:07:07.555Z"
   },
   {
    "duration": 7,
    "start_time": "2024-04-22T13:07:07.697Z"
   },
   {
    "duration": 4,
    "start_time": "2024-04-22T13:07:08.126Z"
   },
   {
    "duration": 11,
    "start_time": "2024-04-22T13:07:08.265Z"
   },
   {
    "duration": 1755,
    "start_time": "2024-04-22T13:07:08.568Z"
   },
   {
    "duration": 1717,
    "start_time": "2024-04-22T13:07:25.676Z"
   },
   {
    "duration": 1708,
    "start_time": "2024-04-22T13:07:38.350Z"
   },
   {
    "duration": 1798,
    "start_time": "2024-04-24T07:58:35.409Z"
   },
   {
    "duration": 629,
    "start_time": "2024-04-24T07:58:37.209Z"
   },
   {
    "duration": 34,
    "start_time": "2024-04-24T07:58:37.839Z"
   },
   {
    "duration": 13,
    "start_time": "2024-04-24T07:58:37.875Z"
   },
   {
    "duration": 574,
    "start_time": "2024-04-24T07:58:37.889Z"
   },
   {
    "duration": 34,
    "start_time": "2024-04-24T07:58:38.464Z"
   },
   {
    "duration": 10,
    "start_time": "2024-04-24T07:58:38.499Z"
   },
   {
    "duration": 591,
    "start_time": "2024-04-24T07:58:38.511Z"
   },
   {
    "duration": 35,
    "start_time": "2024-04-24T07:58:39.104Z"
   },
   {
    "duration": 11,
    "start_time": "2024-04-24T07:58:39.142Z"
   },
   {
    "duration": 651,
    "start_time": "2024-04-24T07:58:39.155Z"
   },
   {
    "duration": 241,
    "start_time": "2024-04-24T07:58:39.808Z"
   },
   {
    "duration": 596,
    "start_time": "2024-04-24T07:58:40.051Z"
   },
   {
    "duration": 592,
    "start_time": "2024-04-24T07:58:40.649Z"
   },
   {
    "duration": 568,
    "start_time": "2024-04-24T07:58:41.243Z"
   },
   {
    "duration": 602,
    "start_time": "2024-04-24T07:58:41.813Z"
   },
   {
    "duration": 11,
    "start_time": "2024-04-24T07:58:42.417Z"
   },
   {
    "duration": 17,
    "start_time": "2024-04-24T07:58:42.429Z"
   },
   {
    "duration": 31,
    "start_time": "2024-04-24T07:58:42.448Z"
   },
   {
    "duration": 17,
    "start_time": "2024-04-24T07:58:42.481Z"
   },
   {
    "duration": 3,
    "start_time": "2024-04-24T07:58:42.500Z"
   },
   {
    "duration": 378,
    "start_time": "2024-04-24T07:58:42.505Z"
   },
   {
    "duration": 0,
    "start_time": "2024-04-24T07:58:42.886Z"
   },
   {
    "duration": 0,
    "start_time": "2024-04-24T07:58:42.888Z"
   },
   {
    "duration": 0,
    "start_time": "2024-04-24T07:58:42.890Z"
   },
   {
    "duration": 0,
    "start_time": "2024-04-24T07:58:42.892Z"
   },
   {
    "duration": 0,
    "start_time": "2024-04-24T07:58:42.893Z"
   },
   {
    "duration": 0,
    "start_time": "2024-04-24T07:58:42.894Z"
   },
   {
    "duration": 0,
    "start_time": "2024-04-24T07:58:42.895Z"
   },
   {
    "duration": 0,
    "start_time": "2024-04-24T07:58:42.897Z"
   },
   {
    "duration": 0,
    "start_time": "2024-04-24T07:58:42.898Z"
   },
   {
    "duration": 0,
    "start_time": "2024-04-24T07:58:42.900Z"
   },
   {
    "duration": 0,
    "start_time": "2024-04-24T07:58:42.902Z"
   },
   {
    "duration": 0,
    "start_time": "2024-04-24T07:58:42.903Z"
   },
   {
    "duration": 0,
    "start_time": "2024-04-24T07:58:42.904Z"
   },
   {
    "duration": 0,
    "start_time": "2024-04-24T07:58:42.906Z"
   },
   {
    "duration": 0,
    "start_time": "2024-04-24T07:58:42.908Z"
   },
   {
    "duration": 0,
    "start_time": "2024-04-24T07:58:42.909Z"
   },
   {
    "duration": 0,
    "start_time": "2024-04-24T07:58:42.911Z"
   },
   {
    "duration": 1,
    "start_time": "2024-04-24T07:58:42.912Z"
   },
   {
    "duration": 0,
    "start_time": "2024-04-24T07:58:42.915Z"
   },
   {
    "duration": 0,
    "start_time": "2024-04-24T07:58:42.917Z"
   },
   {
    "duration": 1,
    "start_time": "2024-04-24T07:58:42.918Z"
   },
   {
    "duration": 38,
    "start_time": "2024-04-24T08:01:57.342Z"
   },
   {
    "duration": 13,
    "start_time": "2024-04-24T08:02:22.572Z"
   },
   {
    "duration": 4,
    "start_time": "2024-04-24T08:02:25.269Z"
   },
   {
    "duration": 45,
    "start_time": "2024-04-24T08:02:26.130Z"
   },
   {
    "duration": 19,
    "start_time": "2024-04-24T08:02:28.759Z"
   },
   {
    "duration": 4,
    "start_time": "2024-04-24T08:02:29.136Z"
   },
   {
    "duration": 39,
    "start_time": "2024-04-24T08:02:29.835Z"
   },
   {
    "duration": 24,
    "start_time": "2024-04-24T08:02:32.166Z"
   },
   {
    "duration": 4,
    "start_time": "2024-04-24T08:02:37.397Z"
   },
   {
    "duration": 12,
    "start_time": "2024-04-24T08:02:37.824Z"
   },
   {
    "duration": 13,
    "start_time": "2024-04-24T08:02:58.957Z"
   },
   {
    "duration": 5,
    "start_time": "2024-04-24T08:03:13.078Z"
   },
   {
    "duration": 3,
    "start_time": "2024-04-24T08:03:13.685Z"
   },
   {
    "duration": 9,
    "start_time": "2024-04-24T08:03:14.489Z"
   },
   {
    "duration": 4,
    "start_time": "2024-04-24T08:06:53.810Z"
   },
   {
    "duration": 4,
    "start_time": "2024-04-24T08:07:24.746Z"
   },
   {
    "duration": 7,
    "start_time": "2024-04-24T08:07:25.924Z"
   },
   {
    "duration": 13,
    "start_time": "2024-04-24T08:07:29.415Z"
   },
   {
    "duration": 15,
    "start_time": "2024-04-24T08:07:30.194Z"
   },
   {
    "duration": 16,
    "start_time": "2024-04-24T08:07:30.580Z"
   },
   {
    "duration": 16,
    "start_time": "2024-04-24T08:07:31.385Z"
   },
   {
    "duration": 7,
    "start_time": "2024-04-24T08:07:32.059Z"
   },
   {
    "duration": 5,
    "start_time": "2024-04-24T08:07:32.715Z"
   },
   {
    "duration": 4,
    "start_time": "2024-04-24T08:07:39.980Z"
   },
   {
    "duration": 4,
    "start_time": "2024-04-24T08:09:15.303Z"
   },
   {
    "duration": 6,
    "start_time": "2024-04-24T08:09:15.781Z"
   },
   {
    "duration": 6,
    "start_time": "2024-04-24T08:09:25.144Z"
   },
   {
    "duration": 1753,
    "start_time": "2024-04-24T08:09:25.812Z"
   },
   {
    "duration": 0,
    "start_time": "2024-04-24T08:09:27.567Z"
   },
   {
    "duration": 7,
    "start_time": "2024-04-24T08:10:35.363Z"
   },
   {
    "duration": 1782,
    "start_time": "2024-04-24T08:10:35.996Z"
   },
   {
    "duration": 1793,
    "start_time": "2024-04-24T08:10:43.508Z"
   },
   {
    "duration": 1725,
    "start_time": "2024-04-24T08:10:47.434Z"
   },
   {
    "duration": 128,
    "start_time": "2024-04-24T08:23:16.882Z"
   },
   {
    "duration": 1751,
    "start_time": "2024-04-24T08:23:17.978Z"
   },
   {
    "duration": 1692,
    "start_time": "2024-04-24T08:23:46.965Z"
   },
   {
    "duration": 181,
    "start_time": "2024-04-24T08:23:48.659Z"
   },
   {
    "duration": 44,
    "start_time": "2024-04-24T08:23:48.841Z"
   },
   {
    "duration": 16,
    "start_time": "2024-04-24T08:23:48.888Z"
   },
   {
    "duration": 170,
    "start_time": "2024-04-24T08:23:48.906Z"
   },
   {
    "duration": 39,
    "start_time": "2024-04-24T08:23:49.078Z"
   },
   {
    "duration": 11,
    "start_time": "2024-04-24T08:23:49.118Z"
   },
   {
    "duration": 167,
    "start_time": "2024-04-24T08:23:49.132Z"
   },
   {
    "duration": 38,
    "start_time": "2024-04-24T08:23:49.301Z"
   },
   {
    "duration": 33,
    "start_time": "2024-04-24T08:23:49.341Z"
   },
   {
    "duration": 593,
    "start_time": "2024-04-24T08:23:49.376Z"
   },
   {
    "duration": 355,
    "start_time": "2024-04-24T08:23:49.970Z"
   },
   {
    "duration": 572,
    "start_time": "2024-04-24T08:23:50.328Z"
   },
   {
    "duration": 609,
    "start_time": "2024-04-24T08:23:50.902Z"
   },
   {
    "duration": 591,
    "start_time": "2024-04-24T08:23:51.513Z"
   },
   {
    "duration": 600,
    "start_time": "2024-04-24T08:23:52.106Z"
   },
   {
    "duration": 11,
    "start_time": "2024-04-24T08:23:52.707Z"
   },
   {
    "duration": 21,
    "start_time": "2024-04-24T08:23:52.720Z"
   },
   {
    "duration": 32,
    "start_time": "2024-04-24T08:23:52.742Z"
   },
   {
    "duration": 26,
    "start_time": "2024-04-24T08:23:52.776Z"
   },
   {
    "duration": 5,
    "start_time": "2024-04-24T08:23:52.805Z"
   },
   {
    "duration": 161,
    "start_time": "2024-04-24T08:23:52.812Z"
   },
   {
    "duration": 5,
    "start_time": "2024-04-24T08:23:52.975Z"
   },
   {
    "duration": 192,
    "start_time": "2024-04-24T08:23:52.982Z"
   },
   {
    "duration": 5,
    "start_time": "2024-04-24T08:23:53.175Z"
   },
   {
    "duration": 15,
    "start_time": "2024-04-24T08:23:53.181Z"
   },
   {
    "duration": 84,
    "start_time": "2024-04-24T08:23:53.198Z"
   },
   {
    "duration": 91,
    "start_time": "2024-04-24T08:23:53.287Z"
   },
   {
    "duration": 12,
    "start_time": "2024-04-24T08:23:53.379Z"
   },
   {
    "duration": 5,
    "start_time": "2024-04-24T08:23:53.392Z"
   },
   {
    "duration": 9,
    "start_time": "2024-04-24T08:23:53.399Z"
   },
   {
    "duration": 8,
    "start_time": "2024-04-24T08:23:53.410Z"
   },
   {
    "duration": 14,
    "start_time": "2024-04-24T08:23:53.420Z"
   },
   {
    "duration": 53,
    "start_time": "2024-04-24T08:23:53.436Z"
   },
   {
    "duration": 17,
    "start_time": "2024-04-24T08:23:53.491Z"
   },
   {
    "duration": 17,
    "start_time": "2024-04-24T08:23:53.510Z"
   },
   {
    "duration": 5,
    "start_time": "2024-04-24T08:23:53.529Z"
   },
   {
    "duration": 37,
    "start_time": "2024-04-24T08:23:53.537Z"
   },
   {
    "duration": 5,
    "start_time": "2024-04-24T08:23:53.576Z"
   },
   {
    "duration": 12,
    "start_time": "2024-04-24T08:23:53.583Z"
   },
   {
    "duration": 1842,
    "start_time": "2024-04-24T08:23:53.597Z"
   },
   {
    "duration": 1796,
    "start_time": "2024-04-24T08:23:55.441Z"
   },
   {
    "duration": 1883,
    "start_time": "2024-04-24T08:23:57.240Z"
   },
   {
    "duration": 7,
    "start_time": "2024-04-24T08:25:14.930Z"
   },
   {
    "duration": 155,
    "start_time": "2024-04-24T08:25:16.396Z"
   },
   {
    "duration": 10,
    "start_time": "2024-04-24T08:25:40.837Z"
   },
   {
    "duration": 9,
    "start_time": "2024-04-24T08:27:56.435Z"
   },
   {
    "duration": 1798,
    "start_time": "2024-04-24T08:27:57.689Z"
   },
   {
    "duration": 1932,
    "start_time": "2024-04-24T08:28:02.808Z"
   },
   {
    "duration": 2035,
    "start_time": "2024-04-24T08:28:04.742Z"
   },
   {
    "duration": 1798,
    "start_time": "2024-04-24T08:28:06.779Z"
   }
  ],
  "kernelspec": {
   "display_name": "Python 3 (ipykernel)",
   "language": "python",
   "name": "python3"
  },
  "language_info": {
   "codemirror_mode": {
    "name": "ipython",
    "version": 3
   },
   "file_extension": ".py",
   "mimetype": "text/x-python",
   "name": "python",
   "nbconvert_exporter": "python",
   "pygments_lexer": "ipython3",
   "version": "3.9.5"
  },
  "toc": {
   "base_numbering": 1,
   "nav_menu": {},
   "number_sections": true,
   "sideBar": true,
   "skip_h1_title": true,
   "title_cell": "Table of Contents",
   "title_sidebar": "Contents",
   "toc_cell": false,
   "toc_position": {},
   "toc_section_display": true,
   "toc_window_display": false
  }
 },
 "nbformat": 4,
 "nbformat_minor": 2
}
